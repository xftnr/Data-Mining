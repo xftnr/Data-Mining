{
 "cells": [
  {
   "cell_type": "markdown",
   "metadata": {},
   "source": [
    "## This assignment may be worked individually or in pairs. \n",
    "## Enter your name/names here:\n",
    "    "
   ]
  },
  {
   "cell_type": "code",
   "execution_count": 40,
   "metadata": {
    "collapsed": true
   },
   "outputs": [],
   "source": [
    "#names here\n",
    "#name1: Pengdi Xia\n",
    "#eid1: px353\n",
    "#name2: Peijie Yang\n",
    "#eid2: py2554\n"
   ]
  },
  {
   "cell_type": "markdown",
   "metadata": {
    "collapsed": true
   },
   "source": [
    "# Assignment 1: Decision Trees\n",
    "\n",
    "In this assignment we'll implement the Decision Tree algorithm to classify patients as either having or not having diabetic retinopathy. For this task we'll be using the Diabetic Retinopathy data set, which contains features from the Messidor image set to predict whether an image contains signs of diabetic retinopathy or not. This dataset has `1151` instances and `20` attributes (some categorical, some continuous). You can find additional details about the dataset [here](http://archive.ics.uci.edu/ml/datasets/Diabetic+Retinopathy+Debrecen+Data+Set)."
   ]
  },
  {
   "cell_type": "markdown",
   "metadata": {},
   "source": [
    "Attribute Information:\n",
    "\n",
    "0) The binary result of quality assessment. 0 = bad quality 1 = sufficient quality.\n",
    "\n",
    "1) The binary result of pre-screening, where 1 indicates severe retinal abnormality and 0 its lack. \n",
    "\n",
    "2-7) The results of MA detection. Each feature value stand for the number of MAs found at the confidence levels alpha = 0.5, . . . , 1, respectively. \n",
    "\n",
    "8-15) contain the same information as 2-7) for exudates. However, as exudates are represented by a set of points rather than the number of pixels constructing the lesions, these features are normalized by dividing the \n",
    "number of lesions with the diameter of the ROI to compensate different image sizes. \n",
    "\n",
    "16) The euclidean distance of the center of the macula and the center of the optic disc to provide important information regarding the patient's condition. This feature is also normalized with the diameter of the ROI.\n",
    "\n",
    "17) The diameter of the optic disc. \n",
    "\n",
    "18) The binary result of the AM/FM-based classification.\n",
    "\n",
    "19) Class label. 1 = contains signs of Diabetic Retinopathy (Accumulative label for the Messidor classes 1, 2, 3), 0 = no signs of Diabetic Retinopathy.\n",
    "\n",
    "\n",
    "A few function prototypes are already given to you, please don't change those. You can add additional helper functions for your convenience. *Suggestion:* The dataset is substantially big, for the purpose of easy debugging work with a subset of the data and test your decision tree implementation on that."
   ]
  },
  {
   "cell_type": "markdown",
   "metadata": {},
   "source": [
    "#### Implementation: \n",
    "A few function prototypes are already given to you, please don't change those. You can add additional helper functions for your convenience. \n",
    "\n",
    "*Suggestion:* The dataset is substantially big, for the purpose of easy debugging, work with a subset of the data and test your decision tree implementation on that.\n",
    "\n",
    "#### Notes:\n",
    "Parts of this assignment will be **autograded** so a couple of caveats :-\n",
    "- Entropy is calculated using log with base 2, `math.log2(x)`.\n",
    "- For continuous features ensure that the threshold value lies exactly between 2 buckets. For example, if for feature 2 the best split occurs between 10 and 15 then the threshold value will be set as 12.5.\n",
    "- For binary features [0/1] the threshold value will be 1. All values < `thresh_val` go to the left child and all values >= `thresh_val` go to the right child."
   ]
  },
  {
   "cell_type": "code",
   "execution_count": 41,
   "metadata": {
    "collapsed": true
   },
   "outputs": [],
   "source": [
    "# Standard Headers\n",
    "# You are welcome to add additional headers if you wish\n",
    "# EXCEPT for scikit-learn... You may NOT use scikit-learn for this assignment!\n",
    "import pandas as pd\n",
    "import numpy as np\n",
    "import matplotlib.pyplot as plt\n",
    "from math import log\n",
    "from random import shuffle"
   ]
  },
  {
   "cell_type": "code",
   "execution_count": 42,
   "metadata": {
    "collapsed": true
   },
   "outputs": [],
   "source": [
    "class DataPoint:\n",
    "    def __str__(self):\n",
    "        return \"< \" + str(self.label) + \": \" + str(self.features) + \" >\"\n",
    "    def __init__(self, label, features):\n",
    "        self.label = label # the classification label of this data point\n",
    "        self.features = features"
   ]
  },
  {
   "cell_type": "markdown",
   "metadata": {},
   "source": [
    "Q1. Read data from a CSV file. Put it into a list of `DataPoints`."
   ]
  },
  {
   "cell_type": "code",
   "execution_count": 43,
   "metadata": {
    "collapsed": true
   },
   "outputs": [],
   "source": [
    "def get_data(filename):\n",
    "    data = []\n",
    "#     your code goes here\n",
    "    data_set = pd.read_csv(filename,header=None)\n",
    "    for x in range(len(data_set)):\n",
    "        datapoint = DataPoint((data_set.iloc[x][len(data_set.columns)-1]),\n",
    "                              (data_set.iloc[x][:-1]))\n",
    "        data.append(datapoint)\n",
    "    return data"
   ]
  },
  {
   "cell_type": "code",
   "execution_count": 44,
   "metadata": {
    "collapsed": true
   },
   "outputs": [],
   "source": [
    "data = get_data('messidor_features.txt')"
   ]
  },
  {
   "cell_type": "code",
   "execution_count": 45,
   "metadata": {
    "collapsed": true
   },
   "outputs": [],
   "source": [
    " class TreeNode:\n",
    "    is_leaf = True          # boolean variable to check if the node is a leaf\n",
    "    feature_idx = None      # index that identifies the feature\n",
    "    thresh_val = None       # threshold value that splits the node\n",
    "    prediction = None       # prediction class (only valid for leaf nodes)\n",
    "    left_child = None       # left TreeNode (all values < thresh_val)\n",
    "    right_child = None      # right TreeNode (all values >= thresh_val)\n",
    "    \n",
    "    def printTree(self):    # for debugging purposes\n",
    "        if self.is_leaf:\n",
    "            print ('Leaf Node:      predicts ' + str(self.prediction))\n",
    "        else:\n",
    "            print ('Internal Node:  splits on feature ' \n",
    "                   + str(self.feature_idx) + ' with threshold ' + str(self.thresh_val))\n",
    "            self.left_child.printTree()\n",
    "            self.right_child.printTree()"
   ]
  },
  {
   "cell_type": "markdown",
   "metadata": {},
   "source": [
    "Q2. Implement the function `make_prediction` that takes the decision tree root and a `DataPoint` instance and returns the prediction label."
   ]
  },
  {
   "cell_type": "code",
   "execution_count": 46,
   "metadata": {
    "collapsed": true
   },
   "outputs": [],
   "source": [
    "def make_prediction(tree_root, data_point):\n",
    "#     your code goes here\n",
    "    while not tree_root.is_leaf:\n",
    "        if data_point.features[tree_root.feature_idx] < tree_root.thresh_val:\n",
    "            tree_root = tree_root.left_child\n",
    "        else: \n",
    "            tree_root = tree_root.right_child\n",
    "    return tree_root.prediction"
   ]
  },
  {
   "cell_type": "markdown",
   "metadata": {},
   "source": [
    "Q3. Implement the function `split_dataset` given an input data set, a `feature_idx` and the `threshold` for the feature. `left_split` will have all values < `threshold` and `right_split` will have all values >= `threshold`."
   ]
  },
  {
   "cell_type": "code",
   "execution_count": 47,
   "metadata": {
    "collapsed": true
   },
   "outputs": [],
   "source": [
    "def split_dataset(data, feature_idx, threshold):\n",
    "    left_split = []\n",
    "    right_split = []\n",
    "#     your code goes here\n",
    "    for x in range(len(data)):\n",
    "        if(data[x].features[feature_idx] < threshold):\n",
    "            left_split.append(data[x])\n",
    "        else: \n",
    "            right_split.append(data[x]) \n",
    "    return (left_split, right_split)"
   ]
  },
  {
   "cell_type": "markdown",
   "metadata": {},
   "source": [
    "Q4. Implement the function `calc_entropy` to return the entropy of the input dataset."
   ]
  },
  {
   "cell_type": "code",
   "execution_count": 48,
   "metadata": {
    "collapsed": true
   },
   "outputs": [],
   "source": [
    "import math\n",
    "def calc_entropy(data):\n",
    "    entropy = 0.0\n",
    "#     your code goes here\n",
    "    total = len(data)\n",
    "    count = 0\n",
    "    ones = 0\n",
    "    for x in range(total):\n",
    "        if data[x].label == 0: \n",
    "            count = count + 1\n",
    "    ones = total - count\n",
    "    if(count == 0 or ones == 0):\n",
    "        return 0\n",
    "    entropy = -(count/total)*math.log2(count/total)-(ones/total)*math.log2(ones/total)\n",
    "    return entropy"
   ]
  },
  {
   "cell_type": "markdown",
   "metadata": {},
   "source": [
    "Q5. Implement the function `calc_best_threshold` which returns the best information gain and the corresponding threshold value for one feature at `feature_idx`."
   ]
  },
  {
   "cell_type": "code",
   "execution_count": 49,
   "metadata": {
    "collapsed": true
   },
   "outputs": [],
   "source": [
    "def calc_best_threshold(data, feature_idx):\n",
    "    best_info_gain = 0.0\n",
    "    best_thresh = None\n",
    "#     your code goes here\n",
    "    parentEntropy = calc_entropy(data)\n",
    "    if (feature_idx == 1 or feature_idx == 0 or feature_idx == 18):\n",
    "        return 0, 1\n",
    "    sortedData = sorted(data,key=lambda x: x.features[feature_idx])\n",
    "    total = len(sortedData)\n",
    "    zerosMore = 0\n",
    "    onesMore = 0\n",
    "    zerosLess = 0\n",
    "    onesLess = 0\n",
    "    gain = 0.0\n",
    "    for x in range(total):\n",
    "        if data[x].label == 0: \n",
    "            zerosMore = zerosMore + 1\n",
    "    onesMore = total - zerosMore\n",
    "    \n",
    "    parentEntropy = calc_entropy(data)\n",
    "    \n",
    "    for x in range(total-1):\n",
    "        average = (1/2)*(sortedData[x].features[feature_idx] + sortedData[x+1].features[feature_idx])\n",
    "        if sortedData[x].label == 1: \n",
    "            onesLess+=1\n",
    "            onesMore-=1\n",
    "            if(onesMore != 0 and zerosMore != 0 and zerosLess != 0 ):\n",
    "                gain = thresholdHelper(zerosMore, zerosLess, onesMore, onesLess, parentEntropy)\n",
    "        else:\n",
    "            zerosLess+=1\n",
    "            zerosMore-=1\n",
    "            if(onesMore != 0 and zerosMore != 0 and onesLess != 0 ):\n",
    "                gain = thresholdHelper(zerosMore, zerosLess, onesMore, onesLess, parentEntropy)\n",
    "        if (gain>=best_info_gain):\n",
    "            best_info_gain = gain\n",
    "            best_thresh = average\n",
    "    return (best_info_gain, best_thresh)"
   ]
  },
  {
   "cell_type": "code",
   "execution_count": 50,
   "metadata": {
    "collapsed": true
   },
   "outputs": [],
   "source": [
    "def thresholdHelper(zerosMore, zerosLess, onesMore, onesLess, parentEntropy):\n",
    "    lessEntropy = -(zerosLess/(zerosLess + onesLess))*math.log2(\n",
    "        zerosLess/(zerosLess + onesLess)) - (onesLess/(zerosLess + onesLess))*math.log2(onesLess/(zerosLess + onesLess))\n",
    "    moreEntropy = -(zerosMore/(zerosMore + onesMore))*math.log2(\n",
    "        zerosMore/(zerosMore + onesMore)) -(onesMore/(zerosMore + onesMore))*math.log2(onesMore/(zerosMore + onesMore))\n",
    "    gain = parentEntropy - ((zerosMore+onesMore)/(zerosMore+onesMore+zerosLess+onesLess))*moreEntropy-((zerosLess+onesLess)/(zerosMore+onesMore+zerosLess+onesLess))*lessEntropy\n",
    "    return gain"
   ]
  },
  {
   "cell_type": "markdown",
   "metadata": {},
   "source": [
    "Q6. Implement the function `identify_best_split` which returns the best feature to split on for an input dataset, and also returns the corresponding threshold value."
   ]
  },
  {
   "cell_type": "code",
   "execution_count": 51,
   "metadata": {
    "collapsed": true
   },
   "outputs": [],
   "source": [
    "def identify_best_split(data):\n",
    "    if len(data) < 2:\n",
    "        return (None, None)\n",
    "    best_feature = None\n",
    "    best_thresh = None\n",
    "#     your code goes here\n",
    "    best_gain = 0\n",
    "    for x in range(len(data[0].features)):\n",
    "        gain, thresh = calc_best_threshold(data, x)\n",
    "        if gain > best_gain:\n",
    "            best_gain = gain\n",
    "            best_thresh = thresh\n",
    "            best_feature = x\n",
    "    return (best_feature, best_thresh)"
   ]
  },
  {
   "cell_type": "markdown",
   "metadata": {},
   "source": [
    "Q7. Implement the function `createLeafNode` which returns a `TreeNode` with `is_leaf=True` and `prediction` set to whichever classification occurs most in the dataset at this node."
   ]
  },
  {
   "cell_type": "code",
   "execution_count": 52,
   "metadata": {
    "collapsed": true
   },
   "outputs": [],
   "source": [
    "def createLeafNode(data):\n",
    "#     your code goes here\n",
    "    count = 0\n",
    "    pred = 1\n",
    "    for x in range(len(data)):\n",
    "        if data[x].label == 0:\n",
    "            count += 1\n",
    "    if count > len(data)/2:\n",
    "        pred = 0\n",
    "    leafnode = TreeNode()\n",
    "    leafnode.prediction = pred\n",
    "    leafnode.is_leaf = True\n",
    "    return leafnode"
   ]
  },
  {
   "cell_type": "markdown",
   "metadata": {},
   "source": [
    "Q8. Implement the `createDecisionTree` function. `max_levels` denotes the maximum height of the tree (for example if `max_levels = 1` then the decision tree will only contain the leaf node at the root. [Hint: this is where the recursion happens.]"
   ]
  },
  {
   "cell_type": "code",
   "execution_count": 53,
   "metadata": {
    "collapsed": true
   },
   "outputs": [],
   "source": [
    "def createDecisionTree(data, max_levels):\n",
    "#     your code goes here\n",
    "# base case\n",
    "    if max_levels == 1:\n",
    "        return createLeafNode(data)\n",
    "    else:\n",
    "        best_feature, best_thresh = identify_best_split(data)\n",
    "        if best_feature == None:\n",
    "            return createLeafNode(data)\n",
    "        node = TreeNode()\n",
    "        left, right = split_dataset(data, best_feature, best_thresh)\n",
    "        node.feature_idx = best_feature\n",
    "        node.thresh_val = best_thresh\n",
    "        node.is_leaf = False\n",
    "        node.left_child = createDecisionTree(left, max_levels-1)\n",
    "        node.right_child = createDecisionTree(right, max_levels-1)\n",
    "    return node"
   ]
  },
  {
   "cell_type": "markdown",
   "metadata": {},
   "source": [
    "Q9. Given a test set, the function `calcAccuracy` returns the accuracy of the classifier. You'll use the `makePrediction` function for this."
   ]
  },
  {
   "cell_type": "code",
   "execution_count": 54,
   "metadata": {
    "collapsed": true
   },
   "outputs": [],
   "source": [
    "def calcAccuracy(tree_root, data):\n",
    "#     your code goes here\n",
    "    count=0\n",
    "    for i in range (len(data)):\n",
    "        if (make_prediction(tree_root,data[i]) == data[i].label):\n",
    "            count += 1\n",
    "    return count/len(data)"
   ]
  },
  {
   "cell_type": "markdown",
   "metadata": {},
   "source": [
    "Q10. Keeping the `max_levels` parameter as 10, use 5-fold cross validation to measure the accuracy of the model. Print the recall and precision of the model. Also display the confusion matrix."
   ]
  },
  {
   "cell_type": "code",
   "execution_count": 55,
   "metadata": {
    "scrolled": true
   },
   "outputs": [
    {
     "name": "stdout",
     "output_type": "stream",
     "text": [
      "Training set size: 864\n",
      "Test set size    : 287\n",
      "Time taken: 4.33984112739563\n",
      "The accuracy on the test set is  63.76306620209059\n",
      "Training set size: 864\n",
      "Test set size    : 287\n",
      "Time taken: 4.218469858169556\n",
      "The accuracy on the test set is  64.80836236933798\n",
      "Training set size: 864\n",
      "Test set size    : 287\n",
      "Time taken: 4.237107038497925\n",
      "The accuracy on the test set is  65.85365853658537\n",
      "Training set size: 864\n",
      "Test set size    : 287\n",
      "Time taken: 4.377819061279297\n",
      "The accuracy on the test set is  63.76306620209059\n",
      "The average accuracy on the test set is  64.54703832752612\n"
     ]
    }
   ],
   "source": [
    "# edit the code here - this is just a sample to get you started\n",
    "import time\n",
    "\n",
    "d = get_data(\"messidor_features.txt\")\n",
    "split = 4\n",
    "size = int (len(d)/4)\n",
    "total = 0\n",
    "for x in range(split):\n",
    "# partition data into train_set and test_set\n",
    "    train_set = d[:x*size] + d[(x+1)*size:]\n",
    "    test_set = d[x*size:(x+1)*size]\n",
    "\n",
    "    print ('Training set size:', len(train_set))\n",
    "    print ('Test set size    :', len(test_set))\n",
    "\n",
    "    # create the decision tree\n",
    "    start = time.time()\n",
    "    tree = createDecisionTree(train_set, 10)\n",
    "    end = time.time()\n",
    "    print ('Time taken:', end - start)\n",
    "\n",
    "    # calculate the accuracy of the tree\n",
    "    accuracy = calcAccuracy(tree, test_set)\n",
    "    total = total + accuracy\n",
    "    print ('The accuracy on the test set is ', str(accuracy * 100.0))\n",
    "    #t.printTree()\n",
    "print('The average accuracy on the test set is ', str((total/split)*100.0))"
   ]
  },
  {
   "cell_type": "markdown",
   "metadata": {},
   "source": [
    "### To explore further:\n",
    "1) Implement a pruning algorithm on the decision tree (either chi-squared, reduced error pruning, or model selection using a validation set/validation error) and see if that improves the generalization error of the decision tree (using 5-fold CV).\n",
    "\n",
    "2) Use scikit-learn's decision tree to classify the data. Compare those results to your own. The documentation for scikit-learn's decision tree is very helpful and can be found [here](http://scikit-learn.org/stable/modules/tree.html)."
   ]
  },
  {
   "cell_type": "code",
   "execution_count": null,
   "metadata": {
    "collapsed": true
   },
   "outputs": [],
   "source": []
  },
  {
   "cell_type": "code",
   "execution_count": null,
   "metadata": {
    "collapsed": true
   },
   "outputs": [],
   "source": []
  }
 ],
 "metadata": {
  "kernelspec": {
   "display_name": "Python 3",
   "language": "python",
   "name": "python3"
  },
  "language_info": {
   "codemirror_mode": {
    "name": "ipython",
    "version": 3
   },
   "file_extension": ".py",
   "mimetype": "text/x-python",
   "name": "python",
   "nbconvert_exporter": "python",
   "pygments_lexer": "ipython3",
   "version": "3.6.1"
  }
 },
 "nbformat": 4,
 "nbformat_minor": 2
}
