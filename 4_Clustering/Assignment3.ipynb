{
 "cells": [
  {
   "cell_type": "markdown",
   "metadata": {},
   "source": [
    "# Name(s): Peijie Yang (py2554); Pengdi Xia (px353)"
   ]
  },
  {
   "cell_type": "markdown",
   "metadata": {},
   "source": [
    "# Assignment 2: Intro to Clustering\n",
    "\n",
    "In this assignment we'll be looking at three popular types of clustering algorithms -- K-Means clustering, Hierarchical clustering and Density Based clustering. We'll also look at some measures of cluster quality like cohesion, separation and silhoutte coefficient."
   ]
  },
  {
   "cell_type": "markdown",
   "metadata": {},
   "source": [
    "## Part 1: K Means Clustering\n",
    "\n",
    "In k means clustering you are given a dataset and a hyperparameter k specifying the number of desired of output clusters. The basic idea of k means is to minimize the sum of squared error (SSE) of the output clusters. Unfortunately, the solution to this problem is NP Hard. In this assignment we'll be implementing the iterative algorithm that produces the locally optimal solution to this problem but guarantees convergence."
   ]
  },
  {
   "cell_type": "code",
   "execution_count": 1,
   "metadata": {
    "collapsed": true
   },
   "outputs": [],
   "source": [
    "# Some headers\n",
    "import random\n",
    "import numpy as np\n",
    "import matplotlib.pyplot as plt\n",
    "from numpy.random import rand\n",
    "from numpy import square, sqrt"
   ]
  },
  {
   "cell_type": "code",
   "execution_count": 2,
   "metadata": {
    "collapsed": true
   },
   "outputs": [],
   "source": [
    "# Enable inline mode for matplotlib so that IPython displays graphs.\n",
    "%matplotlib inline"
   ]
  },
  {
   "cell_type": "code",
   "execution_count": 3,
   "metadata": {
    "collapsed": true
   },
   "outputs": [],
   "source": [
    "# get data from text file\n",
    "data = np.genfromtxt(\"data.csv\", delimiter=\",\")"
   ]
  },
  {
   "cell_type": "markdown",
   "metadata": {},
   "source": [
    "Q1. Implement the function `generateClusters` that returns clusters, given the cluster centroids (`mu`) and the dataset (`data`). Each datapoint needs to be associated to the closest cluster centroid."
   ]
  },
  {
   "cell_type": "code",
   "execution_count": 4,
   "metadata": {
    "collapsed": true
   },
   "outputs": [],
   "source": [
    "def generateClusters(data, mu):\n",
    "    # your code goes here\n",
    "    clusters=[]\n",
    "    \n",
    "    #subset of data for each cluster\n",
    "    for i in range( len(mu)):\n",
    "        subset = []\n",
    "        clusters.append(subset)\n",
    "    for j in range (len(data)):\n",
    "        #store index\n",
    "        index = 0\n",
    "        min_dist = 10000\n",
    "        #for each data compare to the each cluster to find a closest one\n",
    "        for k in range(len(mu)):\n",
    "            temp_dist = sqrt(square(data[j][0]- mu[k][0]) + square(data[j][1] - mu[k][1]))\n",
    "            if temp_dist < min_dist:\n",
    "                min_dist = temp_dist\n",
    "                index = k\n",
    "        clusters[index].append(data[j])\n",
    "    return clusters"
   ]
  },
  {
   "cell_type": "markdown",
   "metadata": {},
   "source": [
    "Q2. Implement the function `recompute_centroids` that returns the centroids given a set of input clusters. Hint: you need to calculate the mean for each cluster."
   ]
  },
  {
   "cell_type": "code",
   "execution_count": 5,
   "metadata": {
    "collapsed": true
   },
   "outputs": [],
   "source": [
    "def recompute_centroids(clusters):\n",
    "    # your code goes here\n",
    "    centroids = []\n",
    "    for i in range(len(clusters)):\n",
    "        centroids.append(sum(clusters[i]) / len(clusters[i]))\n",
    "    return centroids"
   ]
  },
  {
   "cell_type": "markdown",
   "metadata": {},
   "source": [
    "Q3. Implement the function `checkConvergence` that checks if the termination condition of k means algorithm has reached, i.e. the previous centroids are the same as the new centroids. "
   ]
  },
  {
   "cell_type": "code",
   "execution_count": 6,
   "metadata": {
    "collapsed": true
   },
   "outputs": [],
   "source": [
    "def checkConvergence(mu, previous_mu):\n",
    "    # your code goes here\n",
    "    return np.array_equal(mu, previous_mu)"
   ]
  },
  {
   "cell_type": "markdown",
   "metadata": {},
   "source": [
    "Q4. Implement the function `kMeansClustering` that returns k clusters along with their centroids given the input dataset and the desired number of clusters (`k`)."
   ]
  },
  {
   "cell_type": "code",
   "execution_count": 7,
   "metadata": {
    "collapsed": true
   },
   "outputs": [],
   "source": [
    "def kMeansClustering(data, k):\n",
    "    #initalize k random index\n",
    "    rand_init_list = random.sample(range(0,len(data)),k)\n",
    "    clusters = []\n",
    "    mu = []\n",
    "    previous_mu = []\n",
    "    temp = 0\n",
    "    #find the data point with k`s index as inital centroids\n",
    "    for i in range (len(rand_init_list)):\n",
    "        mu.append(data[rand_init_list[i]])\n",
    "    while not checkConvergence(mu, temp):\n",
    "        clusters = generateClusters(data,mu)\n",
    "        temp = mu\n",
    "        mu = recompute_centroids(clusters)\n",
    "    return mu, clusters"
   ]
  },
  {
   "cell_type": "code",
   "execution_count": 8,
   "metadata": {
    "collapsed": true
   },
   "outputs": [],
   "source": [
    "def calculateCohesion(clusters):\n",
    "    result = 0\n",
    "    for i in range(len(clusters)):\n",
    "        centroid = sum((clusters[i])) / len(clusters[i])\n",
    "        for j in range(len(clusters[i])):\n",
    "            result += square(clusters[i][j][0] - centroid[0]) + square(clusters[i][j][1] - centroid[1])\n",
    "    return result"
   ]
  },
  {
   "cell_type": "code",
   "execution_count": 9,
   "metadata": {
    "collapsed": true
   },
   "outputs": [],
   "source": [
    "def calculateSeparation(clusters, data):\n",
    "    generalCentroid = sum(data) / len(data)\n",
    "    result = 0\n",
    "    for i in range(len(clusters)):\n",
    "        thisCentroid = sum((clusters[i])) / len(clusters[i])\n",
    "        result +=  len(clusters[i]) * (square(generalCentroid[0] - thisCentroid[0]) + square(generalCentroid[1] - thisCentroid[1]))\n",
    "    return result"
   ]
  },
  {
   "cell_type": "markdown",
   "metadata": {},
   "source": [
    "Q5. Cluster the data present in `data.csv` using `kMeansClustering` with `k = 5`. Display the clusters using `plt.scatter`, make sure to mark different clusters with a different color. Also calculate the average cohesion and separation for the generated clusters."
   ]
  },
  {
   "cell_type": "code",
   "execution_count": 10,
   "metadata": {},
   "outputs": [
    {
     "data": {
      "image/png": "[encoded data removed]",
      "text/plain": [
       "<matplotlib.figure.Figure at 0x109b0feb8>"
      ]
     },
     "metadata": {},
     "output_type": "display_data"
    },
    {
     "name": "stdout",
     "output_type": "stream",
     "text": [
      "Cohesion for k-means is: 44.7581642328\n",
      "Separation for k-means is: 227.954340139\n"
     ]
    }
   ],
   "source": [
    "# your code goes here\n",
    "mu, clusters = kMeansClustering(data, 5)\n",
    "for i in range(len(clusters)):\n",
    "    oneset_cluster = np.array(clusters[i])\n",
    "    plt.scatter(oneset_cluster[:,0],oneset_cluster[:,1], marker = '.')\n",
    "plt.show()\n",
    "\n",
    "print(\"Cohesion for k-means is: \"+ str(calculateCohesion(clusters)))\n",
    "print(\"Separation for k-means is: \"+ str(calculateSeparation(clusters,data)))"
   ]
  },
  {
   "cell_type": "markdown",
   "metadata": {},
   "source": [
    "Q6. Find the best k for this dataset by plotting SSE vs k for k = 1-10. Based on your plot, which value of k would you choose and why?"
   ]
  },
  {
   "cell_type": "code",
   "execution_count": 11,
   "metadata": {},
   "outputs": [
    {
     "data": {
      "text/plain": [
       "[<matplotlib.lines.Line2D at 0x10d01a748>]"
      ]
     },
     "execution_count": 11,
     "metadata": {},
     "output_type": "execute_result"
    },
    {
     "data": {
      "image/png": "[encoded data removed]",
      "text/plain": [
       "<matplotlib.figure.Figure at 0x10d07ddd8>"
      ]
     },
     "metadata": {},
     "output_type": "display_data"
    }
   ],
   "source": [
    "# your code goes here\n",
    "sse = []\n",
    "for k in range (1,11):\n",
    "    mu, clusters = kMeansClustering(data, k)\n",
    "    temp = 0\n",
    "    for i in range(len(mu)):\n",
    "        for j in range(len(clusters[i])):\n",
    "            temp += square(clusters[i][j][0]-mu[i][0])+square(clusters[i][j][1]-mu[i][1])\n",
    "    sse.append(temp)\n",
    "plt.plot(range(len(sse)),sse)"
   ]
  },
  {
   "cell_type": "raw",
   "metadata": {},
   "source": [
    "I will choose k to be 4 because there are 2 turing point in the graph. The first one is k equal 2. Second one k is equal 4. However when k is equal 2, the SSE is still too high the slope increase when k=3. For most optimal number. I will choose the k=4 for the best k. "
   ]
  },
  {
   "cell_type": "markdown",
   "metadata": {},
   "source": [
    "## Part 2: Hierarchical Clustering\n",
    "\n",
    "For this part you'll be implementing single-linkage clustering, one of several methods of hierarchical clustering. It is based on grouping clusters in bottom-up fashion (agglomerative clustering), at each step combining two clusters that contain the closest pair of elements not yet belonging to the same cluster as each other. In the beginning of the agglomerative clustering process, each element is in a cluster of its own. The clusters are then sequentially combined into larger clusters, until all elements end up being in the same cluster. At each step, the two clusters separated by the shortest distance are combined. Here distance is defined as the euclidean distance between the two points."
   ]
  },
  {
   "cell_type": "code",
   "execution_count": 12,
   "metadata": {},
   "outputs": [
    {
     "name": "stdout",
     "output_type": "stream",
     "text": [
      "[[-0.23604872 -0.83012675]\n",
      " [-0.20753952 -0.66550322]\n",
      " [-0.48108096 -0.46727384]\n",
      " [-0.27729046 -0.59349899]\n",
      " [-0.04479072 -0.5984576 ]\n",
      " [-0.13136382 -0.67378397]\n",
      " [-0.11719707 -0.76280307]\n",
      " [-0.57597308  0.02505388]\n",
      " [-0.00095456 -0.13908238]\n",
      " [-0.13936793 -0.18521367]\n",
      " [-0.01954153  0.11605246]\n",
      " [-0.05791985 -0.21984893]\n",
      " [-0.29589549 -0.12918766]\n",
      " [-0.1101182  -0.03476591]\n",
      " [ 0.20765516  0.81449598]\n",
      " [ 0.2755254   0.62343378]\n",
      " [ 0.55693317  0.59108196]\n",
      " [ 0.4974992   0.64904387]\n",
      " [ 0.19195484  0.64492109]\n",
      " [ 0.75587755  0.408303  ]]\n"
     ]
    }
   ],
   "source": [
    "# get data from text file\n",
    "data = np.genfromtxt(\"data2.csv\", delimiter=\",\")\n",
    "print (data)"
   ]
  },
  {
   "cell_type": "markdown",
   "metadata": {},
   "source": [
    "Q7. Implement single-linkage clustering. Print the cophenetic correlation coefficient (CPCC) for the resultant clustering."
   ]
  },
  {
   "cell_type": "code",
   "execution_count": 13,
   "metadata": {
    "collapsed": true
   },
   "outputs": [],
   "source": [
    "# your code goes here\n",
    "def calculateDistance(data1,data2):\n",
    "    distance =  sqrt(square(data1[0] - data2[0]) + square(data1[1] - data2[1]))\n",
    "    return distance"
   ]
  },
  {
   "cell_type": "code",
   "execution_count": 14,
   "metadata": {
    "collapsed": true
   },
   "outputs": [],
   "source": [
    "def initialMatrix(data): \n",
    "    result = []\n",
    "    for i in range(len(data)):\n",
    "        temp = []\n",
    "        for j in range(len(data)):\n",
    "            if i == j: \n",
    "                temp.append(100)\n",
    "            else:\n",
    "                temp.append(calculateDistance(data[i],data[j]))\n",
    "        result.append(temp)\n",
    "    return result\n",
    "            "
   ]
  },
  {
   "cell_type": "code",
   "execution_count": 15,
   "metadata": {
    "collapsed": true
   },
   "outputs": [],
   "source": [
    "def initialCPCC(data):\n",
    "    result = []\n",
    "    for i in range(len(data)):\n",
    "        temp = []\n",
    "        for j in range(len(data)):\n",
    "            temp.append(0)\n",
    "        result.append(temp)\n",
    "    return result"
   ]
  },
  {
   "cell_type": "code",
   "execution_count": 16,
   "metadata": {
    "collapsed": true
   },
   "outputs": [],
   "source": [
    "def getMinIndex(data):\n",
    "    minDist = 1000\n",
    "    row = col = 0\n",
    "    for i in range(len(data) - 1):\n",
    "        for j in range(i + 1,len(data)):\n",
    "            if data[i][j] < minDist:\n",
    "                minDist = data[i][j]\n",
    "                row = i\n",
    "                col = j\n",
    "    else: \n",
    "        return row,col"
   ]
  },
  {
   "cell_type": "code",
   "execution_count": 17,
   "metadata": {
    "scrolled": false
   },
   "outputs": [
    {
     "name": "stdout",
     "output_type": "stream",
     "text": [
      "so the CPCC is: 0.880839555213\n"
     ]
    }
   ],
   "source": [
    "init_matrix = initialMatrix(data)\n",
    "CPCC = initialCPCC(data)\n",
    "used_points = []\n",
    "current_matrix = init_matrix\n",
    "row, col = getMinIndex(init_matrix)\n",
    "group = [[]]\n",
    "while(len(group[0]) != len(data)):\n",
    "    row, col = getMinIndex(current_matrix)\n",
    "    mark = 0\n",
    "    mark2 = []\n",
    "    temp1 = []\n",
    "    temp2 = []\n",
    "    index = 0\n",
    "    for x in group: \n",
    "        if (row in x and col not in x):\n",
    "            temp1 = x\n",
    "            mark = 1\n",
    "        if (row not in x and col in x):\n",
    "            temp2 = x\n",
    "            mark = 1\n",
    "            \n",
    "    if (temp1 != temp2 and len(temp1) != 0 and len(temp2) != 0):\n",
    "        if (group.index(temp1) < group.index(temp2)):\n",
    "            index = group.index(temp1)\n",
    "            group[group.index(temp1)] = group[group.index(temp1)] + (temp2)\n",
    "            group.remove(temp2)\n",
    "            mark2 = group[index]\n",
    "            \n",
    "        else: \n",
    "            index = group.index(temp2)\n",
    "            group[group.index(temp2)] = group[group.index(temp2)] + (temp1)\n",
    "            group.remove(temp1)\n",
    "            mark2 = group[index]\n",
    "            \n",
    "        for i in temp1: \n",
    "            for j in temp2: \n",
    "                CPCC[j][i] = current_matrix[row][col]\n",
    "                CPCC[i][j] = current_matrix[row][col]\n",
    "    \n",
    "    if (len(temp1) == 0 and len(temp2) != 0):\n",
    "        mark2 = temp2 + [row]\n",
    "        group[group.index(temp2)].append(row)\n",
    "        for i in mark2: \n",
    "            if (i != row):\n",
    "                CPCC[row][i] = current_matrix[row][col]\n",
    "                CPCC[i][row] = current_matrix[row][col]\n",
    "                \n",
    "        \n",
    "    if (len(temp2) == 0 and len(temp1) != 0):\n",
    "        mark2 = temp1 + [col]\n",
    "        group[group.index(temp1)].append(col)\n",
    "        for i in mark2: \n",
    "            if (i != col):\n",
    "                CPCC[i][col] = current_matrix[row][col]\n",
    "                CPCC[col][i] = current_matrix[row][col]\n",
    "        \n",
    "        \n",
    "    if (mark == 0):\n",
    "        if(len(group[0]) ==0):\n",
    "            group[0] = [row,col]\n",
    "        else:\n",
    "            group.append([row,col])\n",
    "        mark2 = [row,col]\n",
    "        CPCC[row][col] = current_matrix[row][col]\n",
    "        CPCC[col][row] = current_matrix[row][col]\n",
    "        \n",
    "        \n",
    "    for i in mark2:\n",
    "        for j in mark2:\n",
    "            if (i != j):\n",
    "                current_matrix[i][j] = 100\n",
    "    min_dist = []\n",
    "    for a in range(len(data)): \n",
    "        min_distance = 1000\n",
    "        for b in mark2: \n",
    "            if (a not in mark2 and current_matrix[a][b] < min_distance):\n",
    "                min_distance = current_matrix[a][b]\n",
    "        min_dist.append(min_distance)\n",
    "                \n",
    "    for c in range(len(data)): \n",
    "        for d in mark2: \n",
    "            if (c not in mark2):\n",
    "                current_matrix[c][d] = min_dist[c]\n",
    "    \n",
    "    if (row not in used_points):\n",
    "        used_points.append(row)\n",
    "    if (col not in used_points):\n",
    "        used_points.append(col)\n",
    "\n",
    "data_list = []\n",
    "cpcc_list = []\n",
    "init_matrix = initialMatrix(data)\n",
    "for i in range(len(data) - 1):\n",
    "        for j in range(i + 1,len(data)):\n",
    "            data_list.append(init_matrix[i][j])\n",
    "            cpcc_list.append(CPCC[i][j])\n",
    "            \n",
    "cor_list = np.corrcoef(data_list,cpcc_list)\n",
    "print(\"so the CPCC is: \" + str(cor_list[0][1]))"
   ]
  },
  {
   "cell_type": "markdown",
   "metadata": {},
   "source": [
    "## Part 3: Density Based Clustering (DBSCAN)\n",
    "\n",
    "For this part we'll be implementing DBSCAN, one of the most popular density based clustering algorithms."
   ]
  },
  {
   "cell_type": "code",
   "execution_count": 18,
   "metadata": {},
   "outputs": [
    {
     "data": {
      "text/plain": [
       "<matplotlib.collections.PathCollection at 0x10d19dc50>"
      ]
     },
     "execution_count": 18,
     "metadata": {},
     "output_type": "execute_result"
    },
    {
     "data": {
      "image/png": "[encoded data removed]",
      "text/plain": [
       "<matplotlib.figure.Figure at 0x10d155c18>"
      ]
     },
     "metadata": {},
     "output_type": "display_data"
    }
   ],
   "source": [
    "# get data from text file\n",
    "data = np.genfromtxt(\"data3.csv\", delimiter=\",\")\n",
    "plt.scatter(data[:,0],data[:,1], marker='.')"
   ]
  },
  {
   "cell_type": "markdown",
   "metadata": {},
   "source": [
    "Q8. Run your `kMeansClustering` with `k = 2` and display the output clusters (make sure that different clusters are marked with different colors). Also display the cohesion and separation values for the clusters. What do you observe?"
   ]
  },
  {
   "cell_type": "code",
   "execution_count": 19,
   "metadata": {},
   "outputs": [
    {
     "data": {
      "image/png": "[encoded data removed]",
      "text/plain": [
       "<matplotlib.figure.Figure at 0x10d1b0d30>"
      ]
     },
     "metadata": {},
     "output_type": "display_data"
    },
    {
     "name": "stdout",
     "output_type": "stream",
     "text": [
      "Cohesion for k-means is: 40.7762283032\n",
      "Separation for k-means is: 59.4456987565\n"
     ]
    }
   ],
   "source": [
    "# your code goes here\n",
    "mu, clusters = kMeansClustering(data, 2)\n",
    "for i in range(len(clusters)):\n",
    "    oneset_cluster = np.array(clusters[i])\n",
    "    plt.scatter(oneset_cluster[:,0],oneset_cluster[:,1], marker='.')\n",
    "plt.show()\n",
    "print(\"Cohesion for k-means is: \"+ str(calculateCohesion(clusters)))\n",
    "print(\"Separation for k-means is: \"+ str(calculateSeparation(clusters,data)))"
   ]
  },
  {
   "cell_type": "markdown",
   "metadata": {},
   "source": [
    "Q9. Implement the DBSCAN algorithm and display output clusters. DBSCAN requires two parameters: epsilon and the minimum number of points required to form a dense region (minPts). A good starting point for epsilon is `0.3` and `minPts = 2`. You should tweak these values and observe how the resultant clusters change."
   ]
  },
  {
   "cell_type": "code",
   "execution_count": 20,
   "metadata": {
    "collapsed": true
   },
   "outputs": [],
   "source": [
    "def cal_dist(data1,data2):\n",
    "    return sqrt(square(data1[0] - data2[0]) + square(data1[1] - data2[1]))"
   ]
  },
  {
   "cell_type": "code",
   "execution_count": 21,
   "metadata": {
    "collapsed": true
   },
   "outputs": [],
   "source": [
    "def neighbor_list(epsilon):\n",
    "    \n",
    "    # each point will have a neigbor list\n",
    "    temp_list=[]\n",
    "    dist = 0\n",
    "    for i in range(len(data)):\n",
    "        subset = []\n",
    "        for j in range (len(data)):\n",
    "            dist = cal_dist(data[i],data[j])\n",
    "            if i !=j and dist <= epsilon:\n",
    "                subset.append(j)\n",
    "        temp_list.append(subset)\n",
    "    return temp_list"
   ]
  },
  {
   "cell_type": "code",
   "execution_count": 22,
   "metadata": {
    "collapsed": true
   },
   "outputs": [],
   "source": [
    "def check_mark(index, cluster, neighbor):\n",
    "    for i in range(len(neighbor[index])):\n",
    "        if data2[neighbor[index][i]] not in cluster:\n",
    "            return False\n",
    "    return True"
   ]
  },
  {
   "cell_type": "code",
   "execution_count": 23,
   "metadata": {
    "collapsed": true
   },
   "outputs": [],
   "source": [
    "def recursive(index, cluster, neighbor,minPts):\n",
    "    # base case\n",
    "    # only have one neighbor\n",
    "    if len(neighbor[index])<minPts:\n",
    "        return cluster\n",
    "    elif check_mark(index, cluster, neighbor):\n",
    "        if data2[index] not in cluster:\n",
    "            cluster.append(data2[index])\n",
    "        return cluster\n",
    "    \n",
    "    # recursive part\n",
    "    cluster.append(data2[index])\n",
    "    for i in range(len(neighbor[index])):\n",
    "        if data2[neighbor[index][i]] not in cluster:\n",
    "            cluster = recursive(neighbor[index][i], cluster, neighbor,minPts)\n",
    "    return cluster"
   ]
  },
  {
   "cell_type": "code",
   "execution_count": 24,
   "metadata": {
    "scrolled": false
   },
   "outputs": [
    {
     "data": {
      "image/png": "[encoded data removed]",
      "text/plain": [
       "<matplotlib.figure.Figure at 0x10d0bf240>"
      ]
     },
     "metadata": {},
     "output_type": "display_data"
    }
   ],
   "source": [
    "from operator import itemgetter\n",
    "minPts = 2\n",
    "epsilon = 0.3\n",
    "clusters = []\n",
    "neighbor = neighbor_list(epsilon)\n",
    "data2 = data.tolist()\n",
    "# go recursive all data\n",
    "for i in range(len(data)):\n",
    "    cluster = []\n",
    "    cluster = recursive(i, cluster, neighbor, minPts)\n",
    "    cluster.sort(key=itemgetter(0))\n",
    "    if len(cluster)>= minPts and cluster not in clusters:\n",
    "        clusters.append(cluster)\n",
    "for i in range(len(clusters)):\n",
    "    partial_cluster = np.array(clusters[i])\n",
    "    plt.scatter(partial_cluster[:,0],partial_cluster[:,1], marker='.')\n",
    "plt.show()"
   ]
  },
  {
   "cell_type": "markdown",
   "metadata": {},
   "source": [
    "Q10. Display the separation and cohesion values for the output clusters obtained in Q9. How are the clusters obtained in Q9 different from the ones obtained in Q8?"
   ]
  },
  {
   "cell_type": "code",
   "execution_count": 25,
   "metadata": {},
   "outputs": [
    {
     "name": "stdout",
     "output_type": "stream",
     "text": [
      "Cohesion for k-means is: 61.2032625579\n",
      "Separation for k-means is: 39.0186645018\n"
     ]
    }
   ],
   "source": [
    "# your code goes here\n",
    "#cast data back to numpy array\n",
    "for i in range(len(clusters)):\n",
    "    for j in range(len(clusters[i])):\n",
    "        clusters[i][j] = np.asarray(clusters[i][j])\n",
    "print(\"Cohesion for k-means is: \"+ str(calculateCohesion(clusters)))\n",
    "print(\"Separation for k-means is: \"+ str(calculateSeparation(clusters,data)))"
   ]
  },
  {
   "cell_type": "code",
   "execution_count": null,
   "metadata": {
    "collapsed": true
   },
   "outputs": [],
   "source": [
    "# here it is more accurate to use DBSCAN to generate clusters."
   ]
  }
 ],
 "metadata": {
  "kernelspec": {
   "display_name": "Python 3",
   "language": "python",
   "name": "python3"
  },
  "language_info": {
   "codemirror_mode": {
    "name": "ipython",
    "version": 3
   },
   "file_extension": ".py",
   "mimetype": "text/x-python",
   "name": "python",
   "nbconvert_exporter": "python",
   "pygments_lexer": "ipython3",
   "version": "3.6.1"
  }
 },
 "nbformat": 4,
 "nbformat_minor": 2
}
